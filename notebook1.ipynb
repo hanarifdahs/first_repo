{
 "cells": [
  {
   "cell_type": "code",
   "execution_count": 1,
   "id": "1997c023-cf75-4027-8a0c-b8b20f8088bf",
   "metadata": {
    "tags": []
   },
   "outputs": [
    {
     "name": "stdout",
     "output_type": "stream",
     "text": [
      "HELLO WORLD\n"
     ]
    }
   ],
   "source": [
    "print('HELLO WORLD')"
   ]
  },
  {
   "cell_type": "markdown",
   "id": "277e53c0-1b3f-45cb-9100-d7eb4d34e8ab",
   "metadata": {},
   "source": [
    "Welcome to Hacktiv8!"
   ]
  },
  {
   "cell_type": "code",
   "execution_count": null,
   "id": "d84a8a3d-1e33-4e8e-ba8c-019959204ead",
   "metadata": {},
   "outputs": [],
   "source": []
  }
 ],
 "metadata": {
  "kernelspec": {
   "display_name": "Python 3 (ipykernel)",
   "language": "python",
   "name": "python3"
  },
  "language_info": {
   "codemirror_mode": {
    "name": "ipython",
    "version": 3
   },
   "file_extension": ".py",
   "mimetype": "text/x-python",
   "name": "python",
   "nbconvert_exporter": "python",
   "pygments_lexer": "ipython3",
   "version": "3.10.9"
  }
 },
 "nbformat": 4,
 "nbformat_minor": 5
}
